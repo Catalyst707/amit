{
 "cells": [
  {
   "cell_type": "markdown",
   "id": "bb4e916e",
   "metadata": {},
   "source": [
    "###  Python practice"
   ]
  },
  {
   "cell_type": "markdown",
   "id": "efe0626f",
   "metadata": {},
   "source": [
    "###  1) Variables"
   ]
  },
  {
   "cell_type": "code",
   "execution_count": 2,
   "id": "03d60735",
   "metadata": {},
   "outputs": [
    {
     "name": "stdout",
     "output_type": "stream",
     "text": [
      "<class 'int'> <class 'float'> <class 'str'> <class 'bool'> <class 'complex'>\n"
     ]
    }
   ],
   "source": [
    "##1i) Integers\n",
    "a=1\n",
    "#1ii) Float\n",
    "b=12.55\n",
    "## 1iii) String\n",
    "c=\"AMIT\"\n",
    "## 1iv) Booleans\n",
    "d=True\n",
    "## 1v) Complex\n",
    "e=3+5j\n",
    "print(type(a),type(b),type(c),type(d),type(e))"
   ]
  },
  {
   "cell_type": "markdown",
   "id": "50609a2d",
   "metadata": {},
   "source": [
    "### 2) Input"
   ]
  },
  {
   "cell_type": "code",
   "execution_count": 3,
   "id": "4b7c5dfc",
   "metadata": {},
   "outputs": [
    {
     "name": "stdout",
     "output_type": "stream",
     "text": [
      "enter a number3\n"
     ]
    }
   ],
   "source": [
    "ip=input(\"enter a number\")"
   ]
  },
  {
   "cell_type": "markdown",
   "id": "d6313684",
   "metadata": {},
   "source": [
    "### 3 Data Type Conversion"
   ]
  },
  {
   "cell_type": "code",
   "execution_count": 11,
   "id": "0053ad66",
   "metadata": {},
   "outputs": [
    {
     "name": "stdout",
     "output_type": "stream",
     "text": [
      "12 <class 'int'>\n",
      "True <class 'bool'>\n",
      "123 <class 'str'> 123 <class 'int'>\n",
      "(12+0j)\n",
      "12.55 <class 'str'>\n"
     ]
    }
   ],
   "source": [
    "x=int(b)\n",
    "print(x,type(x))\n",
    "\n",
    "y=bool(a)\n",
    "print(y,type(y))\n",
    "\n",
    "ai=\"123\"\n",
    "aii=int(ai)\n",
    "print(ai,type(ai), aii,type(aii))\n",
    "\n",
    "print(complex(x))\n",
    "\n",
    "## float to str\n",
    "\n",
    "bs=str(b)\n",
    "print(bs,type(bs))"
   ]
  },
  {
   "cell_type": "markdown",
   "id": "7630c7d4",
   "metadata": {},
   "source": [
    "### 4 Printing format"
   ]
  },
  {
   "cell_type": "code",
   "execution_count": 20,
   "id": "31bd6067",
   "metadata": {
    "scrolled": true
   },
   "outputs": [
    {
     "name": "stdout",
     "output_type": "stream",
     "text": [
      "value of a is 1\n",
      "this 1 is a  12.55\n",
      "value of a is 1 and value of b is 12.55\n",
      "this a is in float 1.000000,and value of b is in int 12,value of a in str 1\n"
     ]
    }
   ],
   "source": [
    "# normal\n",
    "print(\"value of a is\",a)\n",
    "\n",
    "## puting two values\n",
    "print(\"this\",a,\"is a \",b)\n",
    "\n",
    "## printing using {}\n",
    "print(\"value of a is {} and value of b is {}\".format(a,b)) ## note there is dot after \"\"\n",
    "\n",
    "\n",
    "## printing like in c\n",
    "# %d= integer\n",
    "# %f= float\n",
    "# %s= string\n",
    "# %b=bool\n",
    "\n",
    "print(\"this a is in float %f,and value of b is in int %d,value of a in str %s\" %(a,b,a))\n"
   ]
  },
  {
   "cell_type": "markdown",
   "id": "8b0227e0",
   "metadata": {},
   "source": [
    "###### Exercise 1: Take as input an integer and a float. Print the integer and the float. Also print their sum along with the type of the sum.\n",
    "\n"
   ]
  },
  {
   "cell_type": "code",
   "execution_count": 22,
   "id": "25233c45",
   "metadata": {},
   "outputs": [
    {
     "name": "stdout",
     "output_type": "stream",
     "text": [
      "enter integer3\n",
      "enter float3.5\n",
      "value of i 3,value of j 3.500000\n",
      "sum of i and j 6.5 type of<class 'float'> \n"
     ]
    }
   ],
   "source": [
    "i=int(input(\"enter integer\"))\n",
    "j=float(input(\"enter float\"))\n",
    "print(\"value of i %d,value of j %f\" %(i,j))\n",
    "print(\"sum of i and j {} type of{} \".format(i+j,type(i+j)))"
   ]
  },
  {
   "cell_type": "markdown",
   "id": "eb192ecf",
   "metadata": {},
   "source": [
    "###  5) Operators"
   ]
  },
  {
   "cell_type": "markdown",
   "id": "1cb6059e",
   "metadata": {},
   "source": [
    "##### 5.i) Arthimetic"
   ]
  },
  {
   "cell_type": "code",
   "execution_count": 24,
   "id": "6e60dfc2",
   "metadata": {},
   "outputs": [
    {
     "name": "stdout",
     "output_type": "stream",
     "text": [
      "add 6.5\n",
      "substract -0.5\n",
      "multiplicatiion 10.5\n",
      "division 0.8571428571428571\n",
      "exponent 46.76537180435969\n"
     ]
    }
   ],
   "source": [
    "print(\"add\",i+j)\n",
    "print(\"substract\",i-j)\n",
    "print(\"multiplicatiion\",i*j)\n",
    "print(\"division\",i/j)\n",
    "print(\"exponent\",i**j)"
   ]
  },
  {
   "cell_type": "markdown",
   "id": "8c7fd242",
   "metadata": {},
   "source": [
    "##### 5ii) Assingment operators"
   ]
  },
  {
   "cell_type": "code",
   "execution_count": 34,
   "id": "d485b702",
   "metadata": {},
   "outputs": [
    {
     "name": "stdout",
     "output_type": "stream",
     "text": [
      "value of n1 1 before addition\n",
      "5\n",
      "value of n1 after substraction '3' 2\n",
      "after multipilaction 20\n",
      "6\n",
      "2\n"
     ]
    }
   ],
   "source": [
    "#single assingment\n",
    "n=2\n",
    "## multiple assinging values\n",
    "n1,n2,n3,n4=1,2.8,\"ISI\",False\n",
    "## additon to one value\n",
    "print(\"value of n1 %d before addition\"%n1)\n",
    "n1+=4 # n1=n1+4\n",
    "print(n1)\n",
    "\n",
    "n1-=3 # n1=n1-3\n",
    "print(\"value of n1 after substraction '3'\", n1)\n",
    "\n",
    "n1*=10 #n1=n1*2\n",
    "print(\"after multipilaction\",n1)\n",
    "\n",
    "n1//=3 ## // exponent\n",
    "print(n1)\n",
    "\n",
    "n1%=4 ## reminder\n",
    "print(n1)\n"
   ]
  },
  {
   "cell_type": "markdown",
   "id": "a7a41c75",
   "metadata": {},
   "source": [
    "##### 5iii)Comparison"
   ]
  },
  {
   "cell_type": "code",
   "execution_count": 35,
   "id": "abc4e14e",
   "metadata": {},
   "outputs": [
    {
     "name": "stdout",
     "output_type": "stream",
     "text": [
      "True\n",
      "True\n",
      "False\n",
      "True\n"
     ]
    }
   ],
   "source": [
    "n1,n2,n3,n4=21,33.33,21,\"hey\"\n",
    "\n",
    "print(n1==n3)\n",
    "print(n2!=n3)\n",
    "print(n1>=n2)\n",
    "print(n1<=n2)"
   ]
  },
  {
   "cell_type": "markdown",
   "id": "e881d720",
   "metadata": {},
   "source": [
    "#### 5iv)Logical "
   ]
  },
  {
   "cell_type": "code",
   "execution_count": 43,
   "id": "2d67d91f",
   "metadata": {},
   "outputs": [
    {
     "name": "stdout",
     "output_type": "stream",
     "text": [
      "False\n",
      "1\n",
      "23\n",
      "0\n",
      "1\n"
     ]
    }
   ],
   "source": [
    "b1=True\n",
    "b2= False\n",
    "\n",
    "print(not(b1))\n",
    "print(b1+b2)\n",
    "\n",
    "print(30 and 23)\n",
    "print(0 and 1 )\n",
    "print(1 or 0)"
   ]
  },
  {
   "cell_type": "markdown",
   "id": "a1d4750c",
   "metadata": {},
   "source": [
    "#####  5v) BItwise operation"
   ]
  },
  {
   "cell_type": "code",
   "execution_count": 45,
   "id": "54ad9e40",
   "metadata": {},
   "outputs": [
    {
     "name": "stdout",
     "output_type": "stream",
     "text": [
      "6\n",
      "15\n",
      "9\n",
      "-16\n",
      "60\n",
      "3\n"
     ]
    }
   ],
   "source": [
    "# Bitwise Operators\n",
    "\n",
    "i1 = 15 # 1111\n",
    "i2 = 6 #  0110\n",
    "\n",
    "print(i1 & i2) # and\n",
    "print(i1 | i2) # or\n",
    "print(i1 ^ i2) # xor\n",
    "print(~i1) # one's complement\n",
    "print(i1 << 2) # left shift\n",
    "print(i1 >> 2) # right shift"
   ]
  },
  {
   "cell_type": "markdown",
   "id": "9c8bb05f",
   "metadata": {},
   "source": [
    "#### 5.vi) Membership operators"
   ]
  },
  {
   "cell_type": "code",
   "execution_count": 53,
   "id": "54dbc14c",
   "metadata": {},
   "outputs": [
    {
     "name": "stdout",
     "output_type": "stream",
     "text": [
      "True\n",
      "False\n",
      "False\n",
      "True\n"
     ]
    }
   ],
   "source": [
    "print(\"str\" in \"string\")\n",
    "print(\"amit\" not in \"amit kumar singh\")\n",
    "print(\"xyz\" in \"hello\")\n",
    "print(\"ll\" in \"hello\")"
   ]
  },
  {
   "cell_type": "markdown",
   "id": "14a2a384",
   "metadata": {},
   "source": [
    "#### 5.vii) Identity operators"
   ]
  },
  {
   "cell_type": "code",
   "execution_count": 55,
   "id": "f8d6f6ed",
   "metadata": {},
   "outputs": [
    {
     "name": "stdout",
     "output_type": "stream",
     "text": [
      "True\n"
     ]
    }
   ],
   "source": [
    "a=\"abc\"\n",
    "b=\"abc\"\n",
    "\n",
    "print(a is b)"
   ]
  },
  {
   "cell_type": "markdown",
   "id": "d2b47f34",
   "metadata": {},
   "source": [
    "###  String Slicing"
   ]
  },
  {
   "cell_type": "code",
   "execution_count": 65,
   "id": "ff168bdc",
   "metadata": {},
   "outputs": [
    {
     "name": "stdout",
     "output_type": "stream",
     "text": [
      "A\n",
      "Amit\n",
      "mit Kumar Sing\n",
      "A\n"
     ]
    },
    {
     "ename": "TypeError",
     "evalue": "'str' object does not support item assignment",
     "output_type": "error",
     "traceback": [
      "\u001b[1;31m---------------------------------------------------------------------------\u001b[0m",
      "\u001b[1;31mTypeError\u001b[0m                                 Traceback (most recent call last)",
      "\u001b[1;32m<ipython-input-65-7c64cca296fb>\u001b[0m in \u001b[0;36m<module>\u001b[1;34m\u001b[0m\n\u001b[0;32m      5\u001b[0m \u001b[0mprint\u001b[0m\u001b[1;33m(\u001b[0m\u001b[0mname\u001b[0m\u001b[1;33m[\u001b[0m\u001b[1;33m-\u001b[0m\u001b[1;36m15\u001b[0m\u001b[1;33m:\u001b[0m\u001b[1;33m-\u001b[0m\u001b[1;36m1\u001b[0m\u001b[1;33m]\u001b[0m\u001b[1;33m)\u001b[0m\u001b[1;33m\u001b[0m\u001b[1;33m\u001b[0m\u001b[0m\n\u001b[0;32m      6\u001b[0m \u001b[0mprint\u001b[0m\u001b[1;33m(\u001b[0m\u001b[0mname\u001b[0m\u001b[1;33m[\u001b[0m\u001b[1;33m-\u001b[0m\u001b[1;36m16\u001b[0m\u001b[1;33m]\u001b[0m\u001b[1;33m)\u001b[0m\u001b[1;33m\u001b[0m\u001b[1;33m\u001b[0m\u001b[0m\n\u001b[1;32m----> 7\u001b[1;33m \u001b[0mname\u001b[0m\u001b[1;33m[\u001b[0m\u001b[1;36m1\u001b[0m\u001b[1;33m]\u001b[0m\u001b[1;33m=\u001b[0m\u001b[1;34m\"f\"\u001b[0m\u001b[1;33m\u001b[0m\u001b[1;33m\u001b[0m\u001b[0m\n\u001b[0m",
      "\u001b[1;31mTypeError\u001b[0m: 'str' object does not support item assignment"
     ]
    }
   ],
   "source": [
    "name=\"Amit Kumar Singh\"\n",
    "print(name[0])\n",
    "print(name[0:4])\n",
    "#negative index\n",
    "print(name[-15:-1])\n",
    "print(name[-16])\n",
    "## we can not change any perticular string\n",
    "name[1]=\"f\""
   ]
  },
  {
   "cell_type": "code",
   "execution_count": 81,
   "id": "6fb59595",
   "metadata": {},
   "outputs": [
    {
     "name": "stdout",
     "output_type": "stream",
     "text": [
      "Amit Kumar Singh\n",
      "16\n",
      "True\n",
      "\n",
      "\n",
      "False\n",
      "True\n",
      "\n",
      "\n",
      "2\n",
      "1\n",
      "\n",
      "\n",
      "Hello i am amit amit kumar singh\n",
      "\n",
      "\n",
      "11\n"
     ]
    },
    {
     "data": {
      "text/plain": [
       "'hello i am Amit Amit kumar singh'"
      ]
     },
     "execution_count": 81,
     "metadata": {},
     "output_type": "execute_result"
    }
   ],
   "source": [
    "#length of string\n",
    "print(name)\n",
    "print(len(name))\n",
    "\n",
    "\n",
    "## string ends with\n",
    "print(name.endswith(\"Singh\"))\n",
    "\n",
    "print(\"\\n\")\n",
    "\n",
    "##string starts with\n",
    "print(name.startswith(\"Singh\"))\n",
    "print(name.startswith(\"Amit\"))\n",
    "\n",
    "print(\"\\n\")\n",
    "\n",
    "## count a in string\n",
    "print(name.count(\"i\"))\n",
    "print(name.count(\"Singh\"))\n",
    "\n",
    "print(\"\\n\")\n",
    "\n",
    "## Capitalize\n",
    "x=\"hello i am amit amit kumar singh\"\n",
    "print(x.capitalize()) # capital first letter\n",
    "print(\"\\n\")\n",
    "## find \n",
    "print(x.find(\"amit\"))## return index of first occurence\n",
    "\n",
    "## replace\n",
    "x.replace(\"amit\",\"Amit\")\n",
    "\n"
   ]
  },
  {
   "cell_type": "markdown",
   "id": "26a02c09",
   "metadata": {},
   "source": [
    "###  6)List and Tuples"
   ]
  },
  {
   "cell_type": "code",
   "execution_count": 85,
   "id": "5534025b",
   "metadata": {},
   "outputs": [
    {
     "data": {
      "text/plain": [
       "2"
      ]
     },
     "execution_count": 85,
     "metadata": {},
     "output_type": "execute_result"
    }
   ],
   "source": [
    "frinends=[\"ross\",\"monika\",\"joye\",\"rachal\",\"phebee\",\"chandler\"]\n",
    "#list can store any data type\n",
    "\n",
    "l1=[1,2,4,\"amit\",\"kanpur\"]"
   ]
  },
  {
   "cell_type": "markdown",
   "id": "b0afc087",
   "metadata": {},
   "source": [
    "#### 6.i) List slicing"
   ]
  },
  {
   "cell_type": "code",
   "execution_count": 95,
   "id": "19cbd378",
   "metadata": {},
   "outputs": [
    {
     "name": "stdout",
     "output_type": "stream",
     "text": [
      "amit\n",
      "<class 'list'> <class 'int'> <class 'str'>\n",
      "[10, 2, 4, 'amit', 'kanpur']\n"
     ]
    }
   ],
   "source": [
    "#you can slicing \n",
    "print(l1[3])\n",
    "print(type(l1),type(l1[2]),type(l1[4]))\n",
    "\n",
    "## we can change any perticular value of list\n",
    "l1[0]=10\n",
    "print(l1)"
   ]
  },
  {
   "cell_type": "markdown",
   "id": "f1160d53",
   "metadata": {},
   "source": [
    "### 6.ii) List methods"
   ]
  },
  {
   "cell_type": "markdown",
   "id": "343ee192",
   "metadata": {},
   "source": [
    "#### 6.ii.a) Sort"
   ]
  },
  {
   "cell_type": "code",
   "execution_count": 98,
   "id": "abc63695",
   "metadata": {},
   "outputs": [
    {
     "name": "stdout",
     "output_type": "stream",
     "text": [
      "[2, 5, 1, 67, 43, 22, 66, 90]\n",
      "[1, 2, 5, 22, 43, 66, 67, 90]\n",
      "[90, 67, 66, 43, 22, 5, 2, 1]\n"
     ]
    }
   ],
   "source": [
    "l2=[2,5,1,67,43,22,66,90]\n",
    "print(l2)\n",
    "# acending order\n",
    "l2.sort()\n",
    "print(l2)\n",
    "## decending order\n",
    "l2.reverse()\n",
    "print(l2)"
   ]
  },
  {
   "cell_type": "markdown",
   "id": "5bea8358",
   "metadata": {},
   "source": [
    "#### 6.ii.b) Addind an element (append)"
   ]
  },
  {
   "cell_type": "code",
   "execution_count": 102,
   "id": "ebbf37d0",
   "metadata": {},
   "outputs": [
    {
     "name": "stdout",
     "output_type": "stream",
     "text": [
      "[18, 90, 67, 66, 43, 22, 5, 2, 1, 45, 45]\n",
      "[18, 18, 90, 67, 66, 43, 22, 5, 2, 1, 45, 45]\n"
     ]
    }
   ],
   "source": [
    "l2.append(45)\n",
    "print(l2)\n",
    "## inserting at perticular position\n",
    "l2.insert(0,18)\n",
    "print(l2)"
   ]
  },
  {
   "cell_type": "markdown",
   "id": "dd7dedb8",
   "metadata": {},
   "source": [
    "####  6.ii.c) Deleting a value"
   ]
  },
  {
   "cell_type": "code",
   "execution_count": 103,
   "id": "ed355a7b",
   "metadata": {},
   "outputs": [
    {
     "name": "stdout",
     "output_type": "stream",
     "text": [
      "[18, 18, 90, 67, 66, 43, 22, 5, 2, 1, 45]\n"
     ]
    }
   ],
   "source": [
    "## remove by index \n",
    "l2.pop(-1)\n",
    "print(l2)\n",
    "## remove a number\n",
    "l2.remove(22)\n"
   ]
  },
  {
   "cell_type": "markdown",
   "id": "926c221f",
   "metadata": {},
   "source": [
    "### 6.b) Tuples"
   ]
  },
  {
   "cell_type": "code",
   "execution_count": 112,
   "id": "fc1e3ba1",
   "metadata": {},
   "outputs": [
    {
     "name": "stdout",
     "output_type": "stream",
     "text": [
      "(1, 2, 'amit')\n",
      "<class 'tuple'> 2 <class 'int'> amit <class 'str'>\n"
     ]
    }
   ],
   "source": [
    "t=(1,2,\"amit\")\n",
    "print(t)\n",
    "print(type(t),t[1],type(t[1]),t[2],type(t[2]))\n",
    "\n",
    "## we can store any data frame"
   ]
  },
  {
   "cell_type": "markdown",
   "id": "afd5559b",
   "metadata": {},
   "source": [
    "####  6.b.i) Tuple methods"
   ]
  },
  {
   "cell_type": "code",
   "execution_count": 117,
   "id": "8a0177a9",
   "metadata": {},
   "outputs": [
    {
     "name": "stdout",
     "output_type": "stream",
     "text": [
      "3\n",
      "3\n"
     ]
    }
   ],
   "source": [
    "a=(1,4,56,2,4,4)\n",
    "print(a.count(4))## count number of 4s\n",
    "print(a.index(2))## give value of index of 2"
   ]
  },
  {
   "cell_type": "markdown",
   "id": "178ae4be",
   "metadata": {},
   "source": [
    "## 7-Dictionary & Sets"
   ]
  },
  {
   "cell_type": "code",
   "execution_count": 120,
   "id": "29bec338",
   "metadata": {},
   "outputs": [],
   "source": [
    "# Dictionary is collection of key-values pairs\n",
    "\n",
    "a={\n",
    "    \"key\":\"value\",\n",
    "    \"harry\":\"porter\",\n",
    "    \"marks\":100,\n",
    "    \"list\":[1,2,4]\n",
    "}"
   ]
  },
  {
   "cell_type": "code",
   "execution_count": 125,
   "id": "9147826c",
   "metadata": {},
   "outputs": [
    {
     "name": "stdout",
     "output_type": "stream",
     "text": [
      "value\n",
      "4\n"
     ]
    }
   ],
   "source": [
    "print(a[\"key\"])\n",
    "print(a[\"list\"][2])\n"
   ]
  },
  {
   "cell_type": "code",
   "execution_count": 130,
   "id": "8f179fd0",
   "metadata": {},
   "outputs": [
    {
     "name": "stdout",
     "output_type": "stream",
     "text": [
      "chaabi\n"
     ]
    }
   ],
   "source": [
    "## it can be changed\n",
    "a[\"key\"]=\"chaabi\"\n",
    "print(a[\"key\"])"
   ]
  },
  {
   "cell_type": "markdown",
   "id": "607e710c",
   "metadata": {},
   "source": [
    "####  7.a) Dictionary Methods"
   ]
  },
  {
   "cell_type": "code",
   "execution_count": 133,
   "id": "18c40095",
   "metadata": {},
   "outputs": [
    {
     "name": "stdout",
     "output_type": "stream",
     "text": [
      "dict_keys(['key', 'harry', 'marks', 'list'])\n",
      "dict_items([('key', 'chaabi'), ('harry', 'porter'), ('marks', 100), ('list', [1, 2, 4])])\n",
      "{'key': 'chaabi', 'harry': 'porter', 'marks': 100, 'list': [1, 2, 4], 'friend': 'Dost'}\n"
     ]
    }
   ],
   "source": [
    "#####  All Keys\n",
    "print(a.keys())\n",
    "\n",
    "## all items\n",
    "print(a.items())\n",
    "\n",
    "## Update\n",
    "a.update({\"friend\":\"Dost\"})\n",
    "\n",
    "print(a)"
   ]
  },
  {
   "cell_type": "markdown",
   "id": "5c1c9d6e",
   "metadata": {},
   "source": [
    "### 8- If-else Condition\n"
   ]
  },
  {
   "cell_type": "code",
   "execution_count": 139,
   "id": "32b01139",
   "metadata": {},
   "outputs": [
    {
     "name": "stdout",
     "output_type": "stream",
     "text": [
      "Enter integer20\n",
      "Weird\n"
     ]
    }
   ],
   "source": [
    "\n",
    "n=int(input(\"Enter integer\"))\n",
    "\n",
    "\n",
    "if(n%2==0 and n>2 and n<5):\n",
    "    print(\"Not Weird\")\n",
    "elif(n%2==0 and n>6 and n<=20):\n",
    "    print(\"Weird\")\n",
    "elif(n%2==0 and n>20):\n",
    "    print(\"Not Weird\")    \n",
    "elif(n%2!=0):\n",
    "    print(\"Weird\")"
   ]
  },
  {
   "cell_type": "code",
   "execution_count": null,
   "id": "5a7a5067",
   "metadata": {},
   "outputs": [],
   "source": []
  },
  {
   "cell_type": "code",
   "execution_count": 157,
   "id": "97106211",
   "metadata": {},
   "outputs": [],
   "source": [
    "def calculator(n1,n2):\n",
    "    print(\"sum\",n1+n2)\n",
    "    print(\"difference\",n1-n2)\n",
    "    print(\"multiplication\",n1*n2)\n",
    "    print(\"division\",n1/n2)\n",
    "    \n",
    "    return\n"
   ]
  },
  {
   "cell_type": "code",
   "execution_count": 146,
   "id": "0c3c73fd",
   "metadata": {},
   "outputs": [
    {
     "name": "stdout",
     "output_type": "stream",
     "text": [
      "sum 6\n",
      "difference 2\n",
      "multiplication 8\n",
      "division 2.0\n"
     ]
    }
   ],
   "source": [
    "calculator(4,2)"
   ]
  },
  {
   "cell_type": "code",
   "execution_count": 165,
   "id": "a00759ca",
   "metadata": {},
   "outputs": [],
   "source": [
    "def plusMinus(arr):\n",
    "    positive=0\n",
    "    negative=0\n",
    "    zero=0\n",
    "    n=len(arr)\n",
    "    for i in range(0,n):\n",
    "        if(arr[i]>0):\n",
    "            positive=positive+1\n",
    "        elif(arr[i]<0):\n",
    "            negative=negative+1\n",
    "        else:\n",
    "            zero=zero+1\n",
    "    pos=positive/n\n",
    "    neg=negative/n\n",
    "    ze=zero/n\n",
    "    \n",
    "    print(pos)\n",
    "    print(neg)\n",
    "    print(ze)\n",
    "    \n",
    "  \n",
    "    return"
   ]
  },
  {
   "cell_type": "code",
   "execution_count": 166,
   "id": "85ac3159",
   "metadata": {},
   "outputs": [
    {
     "name": "stdout",
     "output_type": "stream",
     "text": [
      "0.6\n",
      "0.2\n",
      "0.2\n"
     ]
    }
   ],
   "source": [
    "test=[1,3,-1,0,5]\n",
    "\n",
    "plusMinus(test)"
   ]
  },
  {
   "cell_type": "code",
   "execution_count": null,
   "id": "70165b23",
   "metadata": {},
   "outputs": [],
   "source": []
  }
 ],
 "metadata": {
  "kernelspec": {
   "display_name": "Python 3",
   "language": "python",
   "name": "python3"
  },
  "language_info": {
   "codemirror_mode": {
    "name": "ipython",
    "version": 3
   },
   "file_extension": ".py",
   "mimetype": "text/x-python",
   "name": "python",
   "nbconvert_exporter": "python",
   "pygments_lexer": "ipython3",
   "version": "3.8.8"
  }
 },
 "nbformat": 4,
 "nbformat_minor": 5
}
