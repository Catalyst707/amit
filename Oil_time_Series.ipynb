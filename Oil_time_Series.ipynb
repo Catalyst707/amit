{
 "cells": [
  {
   "cell_type": "markdown",
   "id": "a8573533",
   "metadata": {},
   "source": [
    "###  Importing Libraries"
   ]
  },
  {
   "cell_type": "code",
   "execution_count": 186,
   "id": "afc7bf96",
   "metadata": {},
   "outputs": [],
   "source": [
    "import pandas as pd\n",
    "import numpy as np\n",
    "import matplotlib\n",
    "import matplotlib.pyplot as plt\n",
    "import statistics as stats"
   ]
  },
  {
   "cell_type": "markdown",
   "id": "32ce470d",
   "metadata": {},
   "source": [
    "###  Importing dataset"
   ]
  },
  {
   "cell_type": "code",
   "execution_count": 187,
   "id": "7b1ab2e5",
   "metadata": {},
   "outputs": [],
   "source": [
    "oil=pd.read_csv(r\"C:\\Users\\omami\\Downloads\\oil.csv\")"
   ]
  },
  {
   "cell_type": "code",
   "execution_count": 188,
   "id": "f536315d",
   "metadata": {
    "scrolled": true
   },
   "outputs": [
    {
     "name": "stdout",
     "output_type": "stream",
     "text": [
      "<class 'pandas.core.frame.DataFrame'>\n",
      "RangeIndex: 1217 entries, 0 to 1216\n",
      "Data columns (total 2 columns):\n",
      " #   Column  Non-Null Count  Dtype  \n",
      "---  ------  --------------  -----  \n",
      " 0   Date    1217 non-null   object \n",
      " 1   Price   1175 non-null   float64\n",
      "dtypes: float64(1), object(1)\n",
      "memory usage: 19.1+ KB\n"
     ]
    }
   ],
   "source": [
    "oil.info() # geting info about data frame"
   ]
  },
  {
   "cell_type": "code",
   "execution_count": 189,
   "id": "990ddd3c",
   "metadata": {},
   "outputs": [],
   "source": [
    "oil=oil.interpolate(method ='linear', limit_direction ='forward') #Interpolate null values"
   ]
  },
  {
   "cell_type": "code",
   "execution_count": 190,
   "id": "4d068b5e",
   "metadata": {},
   "outputs": [],
   "source": [
    "Y=oil.iloc[:,-1].values"
   ]
  },
  {
   "cell_type": "code",
   "execution_count": 191,
   "id": "0bb8f0bd",
   "metadata": {
    "scrolled": true
   },
   "outputs": [
    {
     "data": {
      "text/html": [
       "<div>\n",
       "<style scoped>\n",
       "    .dataframe tbody tr th:only-of-type {\n",
       "        vertical-align: middle;\n",
       "    }\n",
       "\n",
       "    .dataframe tbody tr th {\n",
       "        vertical-align: top;\n",
       "    }\n",
       "\n",
       "    .dataframe thead th {\n",
       "        text-align: right;\n",
       "    }\n",
       "</style>\n",
       "<table border=\"1\" class=\"dataframe\">\n",
       "  <thead>\n",
       "    <tr style=\"text-align: right;\">\n",
       "      <th></th>\n",
       "      <th>Date</th>\n",
       "      <th>Price</th>\n",
       "    </tr>\n",
       "  </thead>\n",
       "  <tbody>\n",
       "    <tr>\n",
       "      <th>0</th>\n",
       "      <td>02-01-2013</td>\n",
       "      <td>93.14</td>\n",
       "    </tr>\n",
       "    <tr>\n",
       "      <th>1</th>\n",
       "      <td>03-01-2013</td>\n",
       "      <td>92.97</td>\n",
       "    </tr>\n",
       "    <tr>\n",
       "      <th>2</th>\n",
       "      <td>04-01-2013</td>\n",
       "      <td>93.12</td>\n",
       "    </tr>\n",
       "    <tr>\n",
       "      <th>3</th>\n",
       "      <td>07-01-2013</td>\n",
       "      <td>93.20</td>\n",
       "    </tr>\n",
       "    <tr>\n",
       "      <th>4</th>\n",
       "      <td>08-01-2013</td>\n",
       "      <td>93.21</td>\n",
       "    </tr>\n",
       "  </tbody>\n",
       "</table>\n",
       "</div>"
      ],
      "text/plain": [
       "         Date  Price\n",
       "0  02-01-2013  93.14\n",
       "1  03-01-2013  92.97\n",
       "2  04-01-2013  93.12\n",
       "3  07-01-2013  93.20\n",
       "4  08-01-2013  93.21"
      ]
     },
     "execution_count": 191,
     "metadata": {},
     "output_type": "execute_result"
    }
   ],
   "source": [
    "oil.head()"
   ]
  },
  {
   "cell_type": "code",
   "execution_count": 192,
   "id": "88f9b4ae",
   "metadata": {
    "scrolled": true
   },
   "outputs": [
    {
     "data": {
      "text/plain": [
       "Date     0\n",
       "Price    0\n",
       "dtype: int64"
      ]
     },
     "execution_count": 192,
     "metadata": {},
     "output_type": "execute_result"
    }
   ],
   "source": [
    "oil.isna().sum()"
   ]
  },
  {
   "cell_type": "code",
   "execution_count": 193,
   "id": "32ba9042",
   "metadata": {},
   "outputs": [
    {
     "data": {
      "image/png": "[encoded data removed]",
      "text/plain": [
       "<Figure size 432x288 with 1 Axes>"
      ]
     },
     "metadata": {
      "needs_background": "light"
     },
     "output_type": "display_data"
    }
   ],
   "source": [
    "oil.plot()\n",
    "plt.title(\"Crude Oil (Price vs Time Graph)\")\n",
    "plt.xlabel(\"Time_ID\")\n",
    "plt.ylabel(\"Crude_price\")\n",
    "plt.savefig(\"Oil_price.png\")\n",
    "\n",
    "plt.show()"
   ]
  },
  {
   "cell_type": "markdown",
   "id": "584ccae0",
   "metadata": {},
   "source": [
    "### Moving Average"
   ]
  },
  {
   "cell_type": "code",
   "execution_count": 194,
   "id": "70a6c9f7",
   "metadata": {},
   "outputs": [],
   "source": [
    "number_observation=len(Y) #number of obervation\n",
    "moving_trend=[] # defining empety list\n",
    "average_m=12    # moving average of trend\n",
    "half_m=int(average_m/2)# for self use\n",
    "trend=[np.nan]*number_observation # predefining list of trend of size number_of_observation\n",
    "\n",
    "\n",
    "for i in range (number_observation-average_m+1):\n",
    "    temp=stats.mean(Y[i:i+4])\n",
    "    moving_trend.append(temp)\n",
    "for j in range (number_observation-average_m):\n",
    "    temp=stats.mean(moving_trend[j:j+2])\n",
    "    trend[half_m +j] = temp"
   ]
  },
  {
   "cell_type": "code",
   "execution_count": 195,
   "id": "111407ba",
   "metadata": {},
   "outputs": [],
   "source": [
    "oil[\"trend\"]=trend #adding coloum in dataframe"
   ]
  },
  {
   "cell_type": "code",
   "execution_count": 196,
   "id": "45455ad8",
   "metadata": {},
   "outputs": [
    {
     "data": {
      "text/html": [
       "<div>\n",
       "<style scoped>\n",
       "    .dataframe tbody tr th:only-of-type {\n",
       "        vertical-align: middle;\n",
       "    }\n",
       "\n",
       "    .dataframe tbody tr th {\n",
       "        vertical-align: top;\n",
       "    }\n",
       "\n",
       "    .dataframe thead th {\n",
       "        text-align: right;\n",
       "    }\n",
       "</style>\n",
       "<table border=\"1\" class=\"dataframe\">\n",
       "  <thead>\n",
       "    <tr style=\"text-align: right;\">\n",
       "      <th></th>\n",
       "      <th>Date</th>\n",
       "      <th>Price</th>\n",
       "      <th>trend</th>\n",
       "    </tr>\n",
       "  </thead>\n",
       "  <tbody>\n",
       "    <tr>\n",
       "      <th>0</th>\n",
       "      <td>02-01-2013</td>\n",
       "      <td>93.14</td>\n",
       "      <td>NaN</td>\n",
       "    </tr>\n",
       "    <tr>\n",
       "      <th>1</th>\n",
       "      <td>03-01-2013</td>\n",
       "      <td>92.97</td>\n",
       "      <td>NaN</td>\n",
       "    </tr>\n",
       "    <tr>\n",
       "      <th>2</th>\n",
       "      <td>04-01-2013</td>\n",
       "      <td>93.12</td>\n",
       "      <td>NaN</td>\n",
       "    </tr>\n",
       "    <tr>\n",
       "      <th>3</th>\n",
       "      <td>07-01-2013</td>\n",
       "      <td>93.20</td>\n",
       "      <td>NaN</td>\n",
       "    </tr>\n",
       "    <tr>\n",
       "      <th>4</th>\n",
       "      <td>08-01-2013</td>\n",
       "      <td>93.21</td>\n",
       "      <td>NaN</td>\n",
       "    </tr>\n",
       "    <tr>\n",
       "      <th>5</th>\n",
       "      <td>09-01-2013</td>\n",
       "      <td>93.08</td>\n",
       "      <td>NaN</td>\n",
       "    </tr>\n",
       "    <tr>\n",
       "      <th>6</th>\n",
       "      <td>10-01-2013</td>\n",
       "      <td>93.81</td>\n",
       "      <td>93.11625</td>\n",
       "    </tr>\n",
       "    <tr>\n",
       "      <th>7</th>\n",
       "      <td>11-01-2013</td>\n",
       "      <td>93.60</td>\n",
       "      <td>93.13875</td>\n",
       "    </tr>\n",
       "    <tr>\n",
       "      <th>8</th>\n",
       "      <td>14-01-2013</td>\n",
       "      <td>94.27</td>\n",
       "      <td>93.23875</td>\n",
       "    </tr>\n",
       "    <tr>\n",
       "      <th>9</th>\n",
       "      <td>15-01-2013</td>\n",
       "      <td>93.26</td>\n",
       "      <td>93.37500</td>\n",
       "    </tr>\n",
       "    <tr>\n",
       "      <th>10</th>\n",
       "      <td>16-01-2013</td>\n",
       "      <td>94.28</td>\n",
       "      <td>93.55750</td>\n",
       "    </tr>\n",
       "    <tr>\n",
       "      <th>11</th>\n",
       "      <td>17-01-2013</td>\n",
       "      <td>95.49</td>\n",
       "      <td>93.71250</td>\n",
       "    </tr>\n",
       "    <tr>\n",
       "      <th>12</th>\n",
       "      <td>18-01-2013</td>\n",
       "      <td>95.61</td>\n",
       "      <td>93.79375</td>\n",
       "    </tr>\n",
       "    <tr>\n",
       "      <th>13</th>\n",
       "      <td>21-01-2013</td>\n",
       "      <td>95.85</td>\n",
       "      <td>94.08875</td>\n",
       "    </tr>\n",
       "    <tr>\n",
       "      <th>14</th>\n",
       "      <td>22-01-2013</td>\n",
       "      <td>96.09</td>\n",
       "      <td>94.49250</td>\n",
       "    </tr>\n",
       "    <tr>\n",
       "      <th>15</th>\n",
       "      <td>23-01-2013</td>\n",
       "      <td>95.06</td>\n",
       "      <td>94.98375</td>\n",
       "    </tr>\n",
       "  </tbody>\n",
       "</table>\n",
       "</div>"
      ],
      "text/plain": [
       "          Date  Price     trend\n",
       "0   02-01-2013  93.14       NaN\n",
       "1   03-01-2013  92.97       NaN\n",
       "2   04-01-2013  93.12       NaN\n",
       "3   07-01-2013  93.20       NaN\n",
       "4   08-01-2013  93.21       NaN\n",
       "5   09-01-2013  93.08       NaN\n",
       "6   10-01-2013  93.81  93.11625\n",
       "7   11-01-2013  93.60  93.13875\n",
       "8   14-01-2013  94.27  93.23875\n",
       "9   15-01-2013  93.26  93.37500\n",
       "10  16-01-2013  94.28  93.55750\n",
       "11  17-01-2013  95.49  93.71250\n",
       "12  18-01-2013  95.61  93.79375\n",
       "13  21-01-2013  95.85  94.08875\n",
       "14  22-01-2013  96.09  94.49250\n",
       "15  23-01-2013  95.06  94.98375"
      ]
     },
     "execution_count": 196,
     "metadata": {},
     "output_type": "execute_result"
    }
   ],
   "source": [
    "oil.head(16) # self test"
   ]
  },
  {
   "cell_type": "code",
   "execution_count": 197,
   "id": "af234244",
   "metadata": {},
   "outputs": [
    {
     "data": {
      "image/png": "[encoded data removed]",
      "text/plain": [
       "<Figure size 432x288 with 1 Axes>"
      ]
     },
     "metadata": {
      "needs_background": "light"
     },
     "output_type": "display_data"
    }
   ],
   "source": [
    "oil.plot()\n",
    "plt.title(\"Moving Average\")\n",
    "plt.xlabel(\"Time_id\")\n",
    "plt.ylabel(\"Oil Price($)\")\n",
    "plt.savefig(\"Moving_average.png\")\n",
    "plt.show()"
   ]
  },
  {
   "cell_type": "code",
   "execution_count": 198,
   "id": "572f44d6",
   "metadata": {},
   "outputs": [],
   "source": [
    "error=(Y-trend)**2\n",
    "oil=oil.interpolate(method ='linear', limit_direction ='forward')\n",
    "mean_moving_avg=stats.mean(error[6:-6])"
   ]
  },
  {
   "cell_type": "markdown",
   "id": "520b89c8",
   "metadata": {},
   "source": [
    "### Exponential smoothing"
   ]
  },
  {
   "cell_type": "code",
   "execution_count": 199,
   "id": "4b2fb94c",
   "metadata": {},
   "outputs": [],
   "source": [
    "alpha=0.3\n",
    "trend_hat=[Y[0]]\n",
    "for i in range (1,number_observation):\n",
    "    temp=alpha*Y[i]+(1-alpha)*trend_hat[i-1]\n",
    "    trend_hat.append(temp)"
   ]
  },
  {
   "cell_type": "code",
   "execution_count": 200,
   "id": "6e25a9f9",
   "metadata": {},
   "outputs": [],
   "source": [
    "oil[\"trend_hat\"]=trend_hat#adding coloum in dataframe"
   ]
  },
  {
   "cell_type": "code",
   "execution_count": 201,
   "id": "8ef57068",
   "metadata": {},
   "outputs": [
    {
     "data": {
      "text/plain": [
       "0          NaN\n",
       "1          NaN\n",
       "2          NaN\n",
       "3          NaN\n",
       "4          NaN\n",
       "         ...  \n",
       "1212    47.485\n",
       "1213    47.485\n",
       "1214    47.485\n",
       "1215    47.485\n",
       "1216    47.485\n",
       "Name: trend, Length: 1217, dtype: float64"
      ]
     },
     "execution_count": 201,
     "metadata": {},
     "output_type": "execute_result"
    }
   ],
   "source": [
    "oil.pop(\"trend\")"
   ]
  },
  {
   "cell_type": "code",
   "execution_count": 202,
   "id": "4e36ec03",
   "metadata": {},
   "outputs": [
    {
     "data": {
      "text/html": [
       "<div>\n",
       "<style scoped>\n",
       "    .dataframe tbody tr th:only-of-type {\n",
       "        vertical-align: middle;\n",
       "    }\n",
       "\n",
       "    .dataframe tbody tr th {\n",
       "        vertical-align: top;\n",
       "    }\n",
       "\n",
       "    .dataframe thead th {\n",
       "        text-align: right;\n",
       "    }\n",
       "</style>\n",
       "<table border=\"1\" class=\"dataframe\">\n",
       "  <thead>\n",
       "    <tr style=\"text-align: right;\">\n",
       "      <th></th>\n",
       "      <th>Date</th>\n",
       "      <th>Price</th>\n",
       "      <th>trend_hat</th>\n",
       "    </tr>\n",
       "  </thead>\n",
       "  <tbody>\n",
       "    <tr>\n",
       "      <th>0</th>\n",
       "      <td>02-01-2013</td>\n",
       "      <td>93.14</td>\n",
       "      <td>93.140000</td>\n",
       "    </tr>\n",
       "    <tr>\n",
       "      <th>1</th>\n",
       "      <td>03-01-2013</td>\n",
       "      <td>92.97</td>\n",
       "      <td>93.089000</td>\n",
       "    </tr>\n",
       "    <tr>\n",
       "      <th>2</th>\n",
       "      <td>04-01-2013</td>\n",
       "      <td>93.12</td>\n",
       "      <td>93.098300</td>\n",
       "    </tr>\n",
       "    <tr>\n",
       "      <th>3</th>\n",
       "      <td>07-01-2013</td>\n",
       "      <td>93.20</td>\n",
       "      <td>93.128810</td>\n",
       "    </tr>\n",
       "    <tr>\n",
       "      <th>4</th>\n",
       "      <td>08-01-2013</td>\n",
       "      <td>93.21</td>\n",
       "      <td>93.153167</td>\n",
       "    </tr>\n",
       "  </tbody>\n",
       "</table>\n",
       "</div>"
      ],
      "text/plain": [
       "         Date  Price  trend_hat\n",
       "0  02-01-2013  93.14  93.140000\n",
       "1  03-01-2013  92.97  93.089000\n",
       "2  04-01-2013  93.12  93.098300\n",
       "3  07-01-2013  93.20  93.128810\n",
       "4  08-01-2013  93.21  93.153167"
      ]
     },
     "execution_count": 202,
     "metadata": {},
     "output_type": "execute_result"
    }
   ],
   "source": [
    "oil.head()"
   ]
  },
  {
   "cell_type": "code",
   "execution_count": 203,
   "id": "f538a246",
   "metadata": {},
   "outputs": [],
   "source": [
    "error2=(Y-trend_hat)**2"
   ]
  },
  {
   "cell_type": "code",
   "execution_count": 215,
   "id": "ca4c3874",
   "metadata": {},
   "outputs": [],
   "source": [
    "mean_exponential=stats.mean(error2)"
   ]
  },
  {
   "cell_type": "code",
   "execution_count": 205,
   "id": "83113d49",
   "metadata": {},
   "outputs": [
    {
     "data": {
      "image/png": "[encoded data removed]",
      "text/plain": [
       "<Figure size 432x288 with 1 Axes>"
      ]
     },
     "metadata": {
      "needs_background": "light"
     },
     "output_type": "display_data"
    }
   ],
   "source": [
    "oil.plot()\n",
    "plt.title(\"Exponential smoothing\")\n",
    "plt.xlabel(\"Time_id\")\n",
    "plt.ylabel(\"Oil Price($)\")\n",
    "plt.savefig(\"Exponential_smoothing.png\")\n",
    "plt.show()"
   ]
  },
  {
   "cell_type": "markdown",
   "id": "04aae258",
   "metadata": {},
   "source": [
    "### Quadratic Model"
   ]
  },
  {
   "cell_type": "code",
   "execution_count": 220,
   "id": "ccb07073",
   "metadata": {},
   "outputs": [],
   "source": [
    "oil[\"x1\"]=range(1,1+len(oil))\n",
    "oil[\"x2\"]=oil[\"x1\"]**2"
   ]
  },
  {
   "cell_type": "code",
   "execution_count": 207,
   "id": "8f44b316",
   "metadata": {},
   "outputs": [
    {
     "data": {
      "text/html": [
       "<div>\n",
       "<style scoped>\n",
       "    .dataframe tbody tr th:only-of-type {\n",
       "        vertical-align: middle;\n",
       "    }\n",
       "\n",
       "    .dataframe tbody tr th {\n",
       "        vertical-align: top;\n",
       "    }\n",
       "\n",
       "    .dataframe thead th {\n",
       "        text-align: right;\n",
       "    }\n",
       "</style>\n",
       "<table border=\"1\" class=\"dataframe\">\n",
       "  <thead>\n",
       "    <tr style=\"text-align: right;\">\n",
       "      <th></th>\n",
       "      <th>Date</th>\n",
       "      <th>Price</th>\n",
       "      <th>trend_hat</th>\n",
       "      <th>x1</th>\n",
       "      <th>x2</th>\n",
       "    </tr>\n",
       "  </thead>\n",
       "  <tbody>\n",
       "    <tr>\n",
       "      <th>0</th>\n",
       "      <td>02-01-2013</td>\n",
       "      <td>93.14</td>\n",
       "      <td>93.140000</td>\n",
       "      <td>1</td>\n",
       "      <td>1</td>\n",
       "    </tr>\n",
       "    <tr>\n",
       "      <th>1</th>\n",
       "      <td>03-01-2013</td>\n",
       "      <td>92.97</td>\n",
       "      <td>93.089000</td>\n",
       "      <td>2</td>\n",
       "      <td>4</td>\n",
       "    </tr>\n",
       "    <tr>\n",
       "      <th>2</th>\n",
       "      <td>04-01-2013</td>\n",
       "      <td>93.12</td>\n",
       "      <td>93.098300</td>\n",
       "      <td>3</td>\n",
       "      <td>9</td>\n",
       "    </tr>\n",
       "    <tr>\n",
       "      <th>3</th>\n",
       "      <td>07-01-2013</td>\n",
       "      <td>93.20</td>\n",
       "      <td>93.128810</td>\n",
       "      <td>4</td>\n",
       "      <td>16</td>\n",
       "    </tr>\n",
       "    <tr>\n",
       "      <th>4</th>\n",
       "      <td>08-01-2013</td>\n",
       "      <td>93.21</td>\n",
       "      <td>93.153167</td>\n",
       "      <td>5</td>\n",
       "      <td>25</td>\n",
       "    </tr>\n",
       "  </tbody>\n",
       "</table>\n",
       "</div>"
      ],
      "text/plain": [
       "         Date  Price  trend_hat  x1  x2\n",
       "0  02-01-2013  93.14  93.140000   1   1\n",
       "1  03-01-2013  92.97  93.089000   2   4\n",
       "2  04-01-2013  93.12  93.098300   3   9\n",
       "3  07-01-2013  93.20  93.128810   4  16\n",
       "4  08-01-2013  93.21  93.153167   5  25"
      ]
     },
     "execution_count": 207,
     "metadata": {},
     "output_type": "execute_result"
    }
   ],
   "source": [
    "oil.head()"
   ]
  },
  {
   "cell_type": "code",
   "execution_count": null,
   "id": "09a8e82f",
   "metadata": {},
   "outputs": [],
   "source": [
    "# By using lm function in value of Beta_0=116.8,beta_1=0.1197 and beta_2=4.813e-05\n",
    "# code in R\n",
    "\n",
    "\n",
    "#df=read.csv(file.choose(\"\"))\n",
    "# df2=data.frame(x1=seq(1,dim(df)[1]),x2=seq(1,dim(df)[1])**2)\n",
    "# df2=cbind(df['Price'],df2)\n",
    "# model=lm(Price~(x1+x2),df2)"
   ]
  },
  {
   "cell_type": "code",
   "execution_count": 208,
   "id": "6103226c",
   "metadata": {},
   "outputs": [],
   "source": [
    "Price_quadratic=116.8-0.1197*oil[\"x1\"]+4.813e-05*oil['x2']"
   ]
  },
  {
   "cell_type": "code",
   "execution_count": 209,
   "id": "0821b207",
   "metadata": {},
   "outputs": [],
   "source": [
    "oil[\"Price_quadratic\"]=Price_quadratic"
   ]
  },
  {
   "cell_type": "code",
   "execution_count": 210,
   "id": "b9c19292",
   "metadata": {},
   "outputs": [
    {
     "data": {
      "text/plain": [
       "0          1\n",
       "1          2\n",
       "2          3\n",
       "3          4\n",
       "4          5\n",
       "        ... \n",
       "1212    1213\n",
       "1213    1214\n",
       "1214    1215\n",
       "1215    1216\n",
       "1216    1217\n",
       "Name: x1, Length: 1217, dtype: int32"
      ]
     },
     "execution_count": 210,
     "metadata": {},
     "output_type": "execute_result"
    }
   ],
   "source": [
    "\n",
    "oil.pop(\"trend_hat\")\n",
    "oil.pop(\"x2\")\n",
    "oil.pop(\"x1\")\n"
   ]
  },
  {
   "cell_type": "code",
   "execution_count": 211,
   "id": "21f801e6",
   "metadata": {},
   "outputs": [
    {
     "data": {
      "text/html": [
       "<div>\n",
       "<style scoped>\n",
       "    .dataframe tbody tr th:only-of-type {\n",
       "        vertical-align: middle;\n",
       "    }\n",
       "\n",
       "    .dataframe tbody tr th {\n",
       "        vertical-align: top;\n",
       "    }\n",
       "\n",
       "    .dataframe thead th {\n",
       "        text-align: right;\n",
       "    }\n",
       "</style>\n",
       "<table border=\"1\" class=\"dataframe\">\n",
       "  <thead>\n",
       "    <tr style=\"text-align: right;\">\n",
       "      <th></th>\n",
       "      <th>Date</th>\n",
       "      <th>Price</th>\n",
       "      <th>Price_quadratic</th>\n",
       "    </tr>\n",
       "  </thead>\n",
       "  <tbody>\n",
       "    <tr>\n",
       "      <th>0</th>\n",
       "      <td>02-01-2013</td>\n",
       "      <td>93.14</td>\n",
       "      <td>116.680348</td>\n",
       "    </tr>\n",
       "    <tr>\n",
       "      <th>1</th>\n",
       "      <td>03-01-2013</td>\n",
       "      <td>92.97</td>\n",
       "      <td>116.560793</td>\n",
       "    </tr>\n",
       "    <tr>\n",
       "      <th>2</th>\n",
       "      <td>04-01-2013</td>\n",
       "      <td>93.12</td>\n",
       "      <td>116.441333</td>\n",
       "    </tr>\n",
       "    <tr>\n",
       "      <th>3</th>\n",
       "      <td>07-01-2013</td>\n",
       "      <td>93.20</td>\n",
       "      <td>116.321970</td>\n",
       "    </tr>\n",
       "    <tr>\n",
       "      <th>4</th>\n",
       "      <td>08-01-2013</td>\n",
       "      <td>93.21</td>\n",
       "      <td>116.202703</td>\n",
       "    </tr>\n",
       "  </tbody>\n",
       "</table>\n",
       "</div>"
      ],
      "text/plain": [
       "         Date  Price  Price_quadratic\n",
       "0  02-01-2013  93.14       116.680348\n",
       "1  03-01-2013  92.97       116.560793\n",
       "2  04-01-2013  93.12       116.441333\n",
       "3  07-01-2013  93.20       116.321970\n",
       "4  08-01-2013  93.21       116.202703"
      ]
     },
     "execution_count": 211,
     "metadata": {},
     "output_type": "execute_result"
    }
   ],
   "source": [
    "oil.head()"
   ]
  },
  {
   "cell_type": "code",
   "execution_count": 212,
   "id": "2dc091a9",
   "metadata": {},
   "outputs": [
    {
     "data": {
      "image/png": "[encoded data removed]",
      "text/plain": [
       "<Figure size 432x288 with 1 Axes>"
      ]
     },
     "metadata": {
      "needs_background": "light"
     },
     "output_type": "display_data"
    }
   ],
   "source": [
    "oil.plot()\n",
    "plt.title(\"Quadratic_method\")\n",
    "plt.xlabel(\"Time_id\")\n",
    "plt.ylabel(\"Oil Price($)\")\n",
    "plt.savefig(\"Quadratic_method.png\")\n",
    "plt.show()"
   ]
  },
  {
   "cell_type": "code",
   "execution_count": 213,
   "id": "99276170",
   "metadata": {},
   "outputs": [],
   "source": [
    "error3=(Y-oil[\"Price_quadratic\"])**2"
   ]
  },
  {
   "cell_type": "code",
   "execution_count": 185,
   "id": "3b8a6915",
   "metadata": {},
   "outputs": [],
   "source": [
    "mean_quadratic=stats.mean(error3)"
   ]
  },
  {
   "cell_type": "code",
   "execution_count": 218,
   "id": "309b19a8",
   "metadata": {},
   "outputs": [],
   "source": [
    "error_mean=pd.DataFrame({\n",
    "    \"Method\":[\"Moving Average\",\"Exponential smoothing\",\"Quadratic Model\"],\n",
    "    \"Mean Error\":[mean_moving_avg,mean_exponential,mean_quadratic]\n",
    "    \n",
    "})"
   ]
  },
  {
   "cell_type": "code",
   "execution_count": 222,
   "id": "1072ac32",
   "metadata": {},
   "outputs": [
    {
     "data": {
      "text/html": [
       "<div>\n",
       "<style scoped>\n",
       "    .dataframe tbody tr th:only-of-type {\n",
       "        vertical-align: middle;\n",
       "    }\n",
       "\n",
       "    .dataframe tbody tr th {\n",
       "        vertical-align: top;\n",
       "    }\n",
       "\n",
       "    .dataframe thead th {\n",
       "        text-align: right;\n",
       "    }\n",
       "</style>\n",
       "<table border=\"1\" class=\"dataframe\">\n",
       "  <thead>\n",
       "    <tr style=\"text-align: right;\">\n",
       "      <th></th>\n",
       "      <th>Method</th>\n",
       "      <th>Mean Error</th>\n",
       "    </tr>\n",
       "  </thead>\n",
       "  <tbody>\n",
       "    <tr>\n",
       "      <th>0</th>\n",
       "      <td>Moving Average</td>\n",
       "      <td>4.396417</td>\n",
       "    </tr>\n",
       "    <tr>\n",
       "      <th>1</th>\n",
       "      <td>Exponential smoothing</td>\n",
       "      <td>1.291605</td>\n",
       "    </tr>\n",
       "    <tr>\n",
       "      <th>2</th>\n",
       "      <td>Quadratic Model</td>\n",
       "      <td>167.306456</td>\n",
       "    </tr>\n",
       "  </tbody>\n",
       "</table>\n",
       "</div>"
      ],
      "text/plain": [
       "                  Method  Mean Error\n",
       "0         Moving Average    4.396417\n",
       "1  Exponential smoothing    1.291605\n",
       "2        Quadratic Model  167.306456"
      ]
     },
     "execution_count": 222,
     "metadata": {},
     "output_type": "execute_result"
    }
   ],
   "source": [
    "error_mean"
   ]
  },
  {
   "cell_type": "code",
   "execution_count": 223,
   "id": "042376a3",
   "metadata": {},
   "outputs": [
    {
     "data": {
      "text/html": [
       "<div>\n",
       "<style scoped>\n",
       "    .dataframe tbody tr th:only-of-type {\n",
       "        vertical-align: middle;\n",
       "    }\n",
       "\n",
       "    .dataframe tbody tr th {\n",
       "        vertical-align: top;\n",
       "    }\n",
       "\n",
       "    .dataframe thead th {\n",
       "        text-align: right;\n",
       "    }\n",
       "</style>\n",
       "<table border=\"1\" class=\"dataframe\">\n",
       "  <thead>\n",
       "    <tr style=\"text-align: right;\">\n",
       "      <th></th>\n",
       "      <th>Date</th>\n",
       "      <th>Price</th>\n",
       "      <th>Price_quadratic</th>\n",
       "      <th>x1</th>\n",
       "      <th>x2</th>\n",
       "    </tr>\n",
       "  </thead>\n",
       "  <tbody>\n",
       "    <tr>\n",
       "      <th>1212</th>\n",
       "      <td>25-08-2017</td>\n",
       "      <td>47.65</td>\n",
       "      <td>42.420890</td>\n",
       "      <td>1213</td>\n",
       "      <td>1471369</td>\n",
       "    </tr>\n",
       "    <tr>\n",
       "      <th>1213</th>\n",
       "      <td>28-08-2017</td>\n",
       "      <td>46.40</td>\n",
       "      <td>42.418001</td>\n",
       "      <td>1214</td>\n",
       "      <td>1473796</td>\n",
       "    </tr>\n",
       "    <tr>\n",
       "      <th>1214</th>\n",
       "      <td>29-08-2017</td>\n",
       "      <td>46.46</td>\n",
       "      <td>42.415209</td>\n",
       "      <td>1215</td>\n",
       "      <td>1476225</td>\n",
       "    </tr>\n",
       "    <tr>\n",
       "      <th>1215</th>\n",
       "      <td>30-08-2017</td>\n",
       "      <td>45.96</td>\n",
       "      <td>42.412513</td>\n",
       "      <td>1216</td>\n",
       "      <td>1478656</td>\n",
       "    </tr>\n",
       "    <tr>\n",
       "      <th>1216</th>\n",
       "      <td>31-08-2017</td>\n",
       "      <td>47.26</td>\n",
       "      <td>42.409914</td>\n",
       "      <td>1217</td>\n",
       "      <td>1481089</td>\n",
       "    </tr>\n",
       "  </tbody>\n",
       "</table>\n",
       "</div>"
      ],
      "text/plain": [
       "            Date  Price  Price_quadratic    x1       x2\n",
       "1212  25-08-2017  47.65        42.420890  1213  1471369\n",
       "1213  28-08-2017  46.40        42.418001  1214  1473796\n",
       "1214  29-08-2017  46.46        42.415209  1215  1476225\n",
       "1215  30-08-2017  45.96        42.412513  1216  1478656\n",
       "1216  31-08-2017  47.26        42.409914  1217  1481089"
      ]
     },
     "execution_count": 223,
     "metadata": {},
     "output_type": "execute_result"
    }
   ],
   "source": [
    "oil.tail()"
   ]
  },
  {
   "cell_type": "code",
   "execution_count": null,
   "id": "fe755c3f",
   "metadata": {},
   "outputs": [],
   "source": []
  }
 ],
 "metadata": {
  "kernelspec": {
   "display_name": "Python 3",
   "language": "python",
   "name": "python3"
  },
  "language_info": {
   "codemirror_mode": {
    "name": "ipython",
    "version": 3
   },
   "file_extension": ".py",
   "mimetype": "text/x-python",
   "name": "python",
   "nbconvert_exporter": "python",
   "pygments_lexer": "ipython3",
   "version": "3.8.8"
  }
 },
 "nbformat": 4,
 "nbformat_minor": 5
}
